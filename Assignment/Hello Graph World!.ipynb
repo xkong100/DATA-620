{
 "cells": [
  {
   "cell_type": "code",
   "execution_count": 16,
   "metadata": {
    "collapsed": false
   },
   "outputs": [
    {
     "name": "stdout",
     "output_type": "stream",
     "text": [
      "SGraph({'num_edges': 18, 'num_vertices': 10})\n"
     ]
    }
   ],
   "source": [
    "from graphlab import SGraph, Vertex, Edge\n",
    "g = SGraph()\n",
    "verts = [Vertex(0, attr={'name': 'Andre'}),\n",
    "         Vertex(1, attr={'name': 'Beverly'}),\n",
    "         Vertex(2, attr={'name': 'Carol'}),\n",
    "         Vertex(3, attr={'name': 'Diane'}),\n",
    "         Vertex(4, attr={'name': 'Ed'}),\n",
    "         Vertex(5, attr={'name': 'Fernando'}),\n",
    "         Vertex(6, attr={'name': 'Garth'}),\n",
    "         Vertex(7, attr={'name': 'Heather'}),\n",
    "         Vertex(8, attr={'name': 'Ike'}),\n",
    "         Vertex(9, attr={'name': 'Jane'}),\n",
    "        ]\n",
    "g = g.add_vertices(verts)\n",
    "g = g.add_edges([\n",
    "                Edge(0, 1),\n",
    "                Edge(0, 2),\n",
    "                Edge(0, 3),\n",
    "                Edge(0, 5),\n",
    "                Edge(1, 3),\n",
    "                Edge(1, 4),\n",
    "                Edge(1, 6),\n",
    "                Edge(2, 3),\n",
    "                Edge(2, 5),\n",
    "                Edge(3, 4),\n",
    "                Edge(3, 5),\n",
    "                Edge(3, 6),\n",
    "                Edge(4, 6),\n",
    "                Edge(5, 6),\n",
    "                Edge(5, 7),\n",
    "                Edge(6, 7),\n",
    "                Edge(7, 8),\n",
    "                Edge(8, 9)])\n",
    "print g"
   ]
  },
  {
   "cell_type": "code",
   "execution_count": 24,
   "metadata": {
    "collapsed": false
   },
   "outputs": [
    {
     "name": "stdout",
     "output_type": "stream",
     "text": [
      "Canvas is updated and available in a tab in the default browser.\n"
     ]
    }
   ],
   "source": [
    "g.show()"
   ]
  },
  {
   "cell_type": "markdown",
   "metadata": {},
   "source": []
  }
 ],
 "metadata": {
  "kernelspec": {
   "display_name": "Python 2",
   "language": "python",
   "name": "python2"
  },
  "language_info": {
   "codemirror_mode": {
    "name": "ipython",
    "version": 2
   },
   "file_extension": ".py",
   "mimetype": "text/x-python",
   "name": "python",
   "nbconvert_exporter": "python",
   "pygments_lexer": "ipython2",
   "version": "2.7.11"
  }
 },
 "nbformat": 4,
 "nbformat_minor": 0
}
