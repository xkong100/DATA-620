{
 "cells": [
  {
   "cell_type": "code",
   "execution_count": 73,
   "metadata": {
    "collapsed": false
   },
   "outputs": [
    {
     "name": "stdout",
     "output_type": "stream",
     "text": [
      "SGraph({'num_edges': 18, 'num_vertices': 10})\n"
     ]
    },
    {
     "data": {
      "application/javascript": [
       "$(\"head\").append($(\"<link/>\").attr({\n",
       "  rel:  \"stylesheet\",\n",
       "  type: \"text/css\",\n",
       "  href: \"//cdnjs.cloudflare.com/ajax/libs/font-awesome/4.1.0/css/font-awesome.min.css\"\n",
       "}));\n",
       "$(\"head\").append($(\"<link/>\").attr({\n",
       "  rel:  \"stylesheet\",\n",
       "  type: \"text/css\",\n",
       "  href: \"https://static.turi.com/products/graphlab-create/2.1/canvas/css/canvas.css\"\n",
       "}));\n",
       "\n",
       "            (function(){\n",
       "\n",
       "                var e = null;\n",
       "                if (typeof element == 'undefined') {\n",
       "                    var scripts = document.getElementsByTagName('script');\n",
       "                    var thisScriptTag = scripts[scripts.length-1];\n",
       "                    var parentDiv = thisScriptTag.parentNode;\n",
       "                    e = document.createElement('div');\n",
       "                    parentDiv.appendChild(e);\n",
       "                } else {\n",
       "                    e = element[0];\n",
       "                }\n",
       "\n",
       "                if (typeof requirejs !== 'undefined') {\n",
       "                    // disable load timeout; ipython_app.js is large and can take a while to load.\n",
       "                    requirejs.config({waitSeconds: 0});\n",
       "                }\n",
       "\n",
       "                require(['https://static.turi.com/products/graphlab-create/2.1/canvas/js/ipython_app.js'], function(IPythonApp){\n",
       "                    var app = new IPythonApp();\n",
       "                    app.attachView('sgraph','View', {\"edges_labels\": null, \"selected_variable\": {\"name\": [\"f\"], \"view_file\": \"sgraph\", \"view_component\": \"View\", \"view_params\": {\"elabel_hover\": false, \"vertex_positions\": null, \"h_offset\": 0.0, \"node_size\": 300, \"ecolor\": [0.37, 0.33, 0.33], \"elabel\": null, \"arrows\": false, \"ewidth\": 1, \"vlabel\": null, \"highlight_color\": [0.69, 0.0, 0.498], \"vcolor\": [0.522, 0.741, 0.0], \"vlabel_hover\": false, \"highlight\": {}, \"v_offset\": 0.03}, \"view_components\": [\"View\"], \"type\": \"SGraph\", \"descriptives_links\": {\"edges\": \"edges\", \"vertices\": \"vertices\"}, \"descriptives\": {\"edges\": 18, \"vertices\": 10}}, \"positions\": null, \"error_type\": 0, \"vertices\": [7, 8, 5, 0, 2, 9, 6, 3, 1, 4], \"vertices_labels\": null, \"edges\": [[5, 7], [7, 8], [5, 6], [8, 9], [0, 5], [0, 2], [0, 3], [0, 1], [2, 5], [2, 3], [6, 7], [3, 5], [3, 6], [3, 4], [1, 6], [1, 3], [1, 4], [4, 6]], \"ipython\": true, \"error_msg\": \"\"}, e);\n",
       "                });\n",
       "            })();\n",
       "        "
      ]
     },
     "metadata": {},
     "output_type": "display_data"
    }
   ],
   "source": [
    "import graphlab as g\n",
    "g.canvas.set_target('ipynb')\n",
    "f = g.SGraph()\n",
    "verts = [Vertex(0, attr={'name': 'Andre'}),\n",
    "         Vertex(1, attr={'name': 'Beverly'}),\n",
    "         Vertex(2, attr={'name': 'Carol'}),\n",
    "         Vertex(3, attr={'name': 'Diane'}),\n",
    "         Vertex(4, attr={'name': 'Ed'}),\n",
    "         Vertex(5, attr={'name': 'Fernando'}),\n",
    "         Vertex(6, attr={'name': 'Garth'}),\n",
    "         Vertex(7, attr={'name': 'Heather'}),\n",
    "         Vertex(8, attr={'name': 'Ike'}),\n",
    "         Vertex(9, attr={'name': 'Jane'}),\n",
    "        ]\n",
    "f = f.add_vertices(verts)\n",
    "f = f.add_edges([\n",
    "                Edge(0, 1),\n",
    "                Edge(0, 2),\n",
    "                Edge(0, 3),\n",
    "                Edge(0, 5),\n",
    "                Edge(1, 3),\n",
    "                Edge(1, 4),\n",
    "                Edge(1, 6),\n",
    "                Edge(2, 3),\n",
    "                Edge(2, 5),\n",
    "                Edge(3, 4),\n",
    "                Edge(3, 5),\n",
    "                Edge(3, 6),\n",
    "                Edge(4, 6),\n",
    "                Edge(5, 6),\n",
    "                Edge(5, 7),\n",
    "                Edge(6, 7),\n",
    "                Edge(7, 8),\n",
    "                Edge(8, 9)])\n",
    "print f\n",
    "f.show()\n"
   ]
  }
 ],
 "metadata": {
  "celltoolbar": "Raw Cell Format",
  "kernelspec": {
   "display_name": "Python 2",
   "language": "python",
   "name": "python2"
  },
  "language_info": {
   "codemirror_mode": {
    "name": "ipython",
    "version": 2
   },
   "file_extension": ".py",
   "mimetype": "text/x-python",
   "name": "python",
   "nbconvert_exporter": "python",
   "pygments_lexer": "ipython2",
   "version": "2.7.11"
  }
 },
 "nbformat": 4,
 "nbformat_minor": 0
}
